{
 "cells": [
  {
   "cell_type": "markdown",
   "metadata": {},
   "source": [
    "The Cauchy distribution has a number of features that make\n",
    "it an \"evil\" distribution; in particular, the lack of existence\n",
    "of its moments make it particularly hairy to work with.\n",
    "\n",
    "Something that I always found counterintuitive is the fact that\n",
    "the weak law of large numbers does not hold for the Cauchy distribution\n",
    "(we will work exclusively with the standard Cauchy distribution throughout\n",
    "this article).\n",
    "\n",
    "Undergraduate probability theory will tell you that the weak law of large\n",
    "numbers can be proved assuming finite first and second moments through\n",
    "an application of Chebyshev's inequality; this won't work for the Cauchy distribution\n",
    "since it has no moments! But, that's too weird right? Intuitively, you have\n",
    "just as many positive values as negative values (assuming that you're sampling i.i.d.\n",
    "Cauchy random variables). Not to mention that you're dividing by $ n $, which\n",
    "ends up getting really big! Shouldn't they cancel out, in some sense, in the long run?\n",
    "\n",
    "There are stronger proofs for laws of large numbers that loosen some of the\n",
    "assumptions made in undergraduate probability, but those are somewhat outside\n",
    "of the scope of this article; we will opt to specify. A more convincing proof for the lack\n",
    "of convergence of the quantity\n",
    "\n",
    "$$\n",
    "\\bar{X}_n := \\frac{1}{n}\\sum_{i=1}^n X_i\n",
    "$$\n",
    "\n",
    "where $ X_i \\sim $ Cauchy(0, 1) relies on characteristic functions; namely,\n",
    "that if $ X_1, X_2, \\cdots, X_n $ are i.i.d. Cauchy(0,1) random variables,\n",
    "then $ \\bar{X}_n \\sim $ Cauchy(0, 1) as well. This would imply that,\n",
    "regardless of how many random variables you sum up in your sample mean,\n",
    "you always end up with the same damn thing.\n",
    "\n",
    "The proof isn't presented here, but is not so hard (go look it up or prove it yourself).\n",
    "It's certainly true, but it's so \\emph{weird}. The point of this article is to verify\n",
    "this fact using simulation.\n",
    "\n",
    "First, we'll show what's \"supposed to happen\" if you get nice\n",
    "law of large number results. We'll compute and chart the sample mean\n",
    "for a whole bunch of standard Normal random variables."
   ]
  },
  {
   "cell_type": "code",
   "execution_count": 20,
   "metadata": {},
   "outputs": [],
   "source": [
    "# Imports\n",
    "import numpy as np\n",
    "import matplotlib.pyplot as plt\n",
    "%matplotlib inline\n",
    "\n",
    "# Set seed to make results reproducible\n",
    "np.random.seed(8008135)"
   ]
  },
  {
   "cell_type": "code",
   "execution_count": 21,
   "metadata": {},
   "outputs": [],
   "source": [
    "# Generate standard normals and compute rolling mean (i.e. \\bar{X}_n as n \\to \\infty)\n",
    "normals = np.random.normal(size=10000)\n",
    "means = np.cumsum(normals) / np.linspace(1,10000,10000)"
   ]
  },
  {
   "cell_type": "code",
   "execution_count": 22,
   "metadata": {},
   "outputs": [
    {
     "data": {
      "text/plain": [
       "[<matplotlib.lines.Line2D at 0x7fd28d2ddf28>]"
      ]
     },
     "execution_count": 22,
     "metadata": {},
     "output_type": "execute_result"
    },
    {
     "data": {
      "image/png": "[encoded data removed]",
      "text/plain": [
       "<Figure size 432x288 with 1 Axes>"
      ]
     },
     "metadata": {},
     "output_type": "display_data"
    }
   ],
   "source": [
    "plt.plot(means)"
   ]
  },
  {
   "cell_type": "markdown",
   "metadata": {},
   "source": [
    "See, this makes sense. We get the average thing going to the average.\n",
    "\n",
    "Now, we'll do the same thing with Cauchy random variables."
   ]
  },
  {
   "cell_type": "code",
   "execution_count": 23,
   "metadata": {},
   "outputs": [],
   "source": [
    "cauchies = np.random.standard_cauchy(size=100000)\n",
    "cauchy_means = np.cumsum(cauchies) / np.linspace(1, 100000, 100000)"
   ]
  },
  {
   "cell_type": "code",
   "execution_count": 24,
   "metadata": {},
   "outputs": [
    {
     "data": {
      "text/plain": [
       "[<matplotlib.lines.Line2D at 0x7fd28d2b5fd0>]"
      ]
     },
     "execution_count": 24,
     "metadata": {},
     "output_type": "execute_result"
    },
    {
     "data": {
      "image/png": "[encoded data removed]",
      "text/plain": [
       "<Figure size 432x288 with 1 Axes>"
      ]
     },
     "metadata": {},
     "output_type": "display_data"
    }
   ],
   "source": [
    "plt.plot(cauchy_means)"
   ]
  },
  {
   "cell_type": "markdown",
   "metadata": {},
   "source": [
    "Ain't that cool! Now, this definitely relies on the implementation of the standard Cauchy\n",
    "sampling proceduce built in to Numpy, but disregarding that one can clearly see the Cauchy\n",
    "distribution tends to freak out occasionally (i.e. it has fat tails).\n",
    "\n",
    "Just to double check against the software sampling procedure\n",
    "(as a sort of sanity check), we can use the fact that if $ X, Y \\sim N(0, 1) $ and\n",
    "if $ X $ and $ Y $ are independent, then $ \\frac{X}{Y} \\sim $ Cauchy(0, 1)."
   ]
  },
  {
   "cell_type": "code",
   "execution_count": 31,
   "metadata": {},
   "outputs": [],
   "source": [
    "normals_1 = np.random.normal(size=100000)\n",
    "normals_2 = np.random.normal(size=100000)\n",
    "cauchy_ratio = normals_1 / normals_2\n",
    "ratio_means = np.cumsum(cauchy_ratio) / np.linspace(1, 100000, 100000)"
   ]
  },
  {
   "cell_type": "code",
   "execution_count": 32,
   "metadata": {},
   "outputs": [
    {
     "data": {
      "text/plain": [
       "[<matplotlib.lines.Line2D at 0x7fd28cf61a90>]"
      ]
     },
     "execution_count": 32,
     "metadata": {},
     "output_type": "execute_result"
    },
    {
     "data": {
      "image/png": "[encoded data removed]",
      "text/plain": [
       "<Figure size 432x288 with 1 Axes>"
      ]
     },
     "metadata": {},
     "output_type": "display_data"
    }
   ],
   "source": [
    "plt.plot(ratio_means)"
   ]
  },
  {
   "cell_type": "markdown",
   "metadata": {},
   "source": [
    "We get something that's still pretty bad."
   ]
  }
 ],
 "metadata": {
  "kernelspec": {
   "display_name": "Python 3",
   "language": "python",
   "name": "python3"
  },
  "language_info": {
   "codemirror_mode": {
    "name": "ipython",
    "version": 3
   },
   "file_extension": ".py",
   "mimetype": "text/x-python",
   "name": "python",
   "nbconvert_exporter": "python",
   "pygments_lexer": "ipython3",
   "version": "3.6.4"
  }
 },
 "nbformat": 4,
 "nbformat_minor": 2
}
